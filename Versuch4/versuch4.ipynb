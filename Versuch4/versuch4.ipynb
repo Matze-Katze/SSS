{
 "cells": [
  {
   "cell_type": "code",
   "execution_count": 8,
   "metadata": {},
   "outputs": [],
   "source": [
    "import numpy\n",
    "import matplotlib.pyplot as plt"
   ]
  },
  {
   "cell_type": "code",
   "execution_count": 5,
   "metadata": {},
   "outputs": [
    {
     "ename": "ModuleNotFoundError",
     "evalue": "No module named 'pyaudio'",
     "output_type": "error",
     "traceback": [
      "\u001b[0;31m---------------------------------------------------------------------------\u001b[0m",
      "\u001b[0;31mModuleNotFoundError\u001b[0m                       Traceback (most recent call last)",
      "Cell \u001b[0;32mIn[5], line 1\u001b[0m\n\u001b[0;32m----> 1\u001b[0m \u001b[38;5;28;01mimport\u001b[39;00m \u001b[38;5;21;01mpyaudio\u001b[39;00m\n\u001b[1;32m      2\u001b[0m \u001b[38;5;28;01mimport\u001b[39;00m \u001b[38;5;21;01mnumpy\u001b[39;00m\n\u001b[1;32m      3\u001b[0m \u001b[38;5;28;01mimport\u001b[39;00m \u001b[38;5;21;01mmatplotlib\u001b[39;00m\u001b[38;5;21;01m.\u001b[39;00m\u001b[38;5;21;01mpyplot\u001b[39;00m \u001b[38;5;28;01mas\u001b[39;00m \u001b[38;5;21;01mplt\u001b[39;00m\n",
      "\u001b[0;31mModuleNotFoundError\u001b[0m: No module named 'pyaudio'"
     ]
    }
   ],
   "source": [
    "import pyaudio\n",
    "\n",
    "\n",
    "def aufnahme():\n",
    "    FORMAT = pyaudio.paInt16\n",
    "    SAMPLEFREQ = 44100\n",
    "    FRAMESIZE = 1024\n",
    "    NOFFRAMES = 220\n",
    "    p = pyaudio.PyAudio()\n",
    "    print(\"running\")\n",
    "    stream = p.open(format=FORMAT,channels=1,rate=SAMPLEFREQ,\n",
    "    input=True,frames_per_buffer=FRAMESIZE)\n",
    "    data = stream.read(NOFFRAMES*FRAMESIZE)\n",
    "    decoded = numpy.frombuffer(data,dtype=numpy.int16);\n",
    "    stream.stop_stream()\n",
    "    stream.close()\n",
    "    p.terminate()\n",
    "    print(\"done\")\n",
    "    numpy.save(\"../Versuch4/file\",decoded)\n",
    "    plt.plot(decoded)\n",
    "    plt.show()\n",
    "#aufnahme()"
   ]
  },
  {
   "cell_type": "code",
   "execution_count": 6,
   "metadata": {},
   "outputs": [
    {
     "ename": "NameError",
     "evalue": "name 'plt' is not defined",
     "output_type": "error",
     "traceback": [
      "\u001b[0;31m---------------------------------------------------------------------------\u001b[0m",
      "\u001b[0;31mNameError\u001b[0m                                 Traceback (most recent call last)",
      "Cell \u001b[0;32mIn[6], line 13\u001b[0m\n\u001b[1;32m      9\u001b[0m     \u001b[38;5;28;01mreturn\u001b[39;00m x\n\u001b[1;32m     12\u001b[0m test \u001b[38;5;241m=\u001b[39m trigger(\u001b[38;5;124m\"\u001b[39m\u001b[38;5;124m./file.npy\u001b[39m\u001b[38;5;124m\"\u001b[39m,\u001b[38;5;241m2000\u001b[39m)\n\u001b[0;32m---> 13\u001b[0m \u001b[43mplt\u001b[49m\u001b[38;5;241m.\u001b[39mplot(test)\n",
      "\u001b[0;31mNameError\u001b[0m: name 'plt' is not defined"
     ]
    }
   ],
   "source": [
    "\n",
    "def trigger(path, threshold):\n",
    "    sample = numpy.load(path)\n",
    "    x = []\n",
    "    for i in range(len(sample)):\n",
    "        if sample[i] >= threshold:\n",
    "            x = sample[i:]\n",
    "            break\n",
    "    return x\n",
    "\n",
    "\n",
    "test = trigger(\"./file.npy\",2000)\n",
    "plt.plot(test)"
   ]
  },
  {
   "cell_type": "code",
   "execution_count": 1,
   "metadata": {},
   "outputs": [
    {
     "ename": "NameError",
     "evalue": "name 'test' is not defined",
     "output_type": "error",
     "traceback": [
      "\u001b[0;31m---------------------------------------------------------------------------\u001b[0m",
      "\u001b[0;31mNameError\u001b[0m                                 Traceback (most recent call last)",
      "Cell \u001b[0;32mIn[1], line 8\u001b[0m\n\u001b[1;32m      5\u001b[0m     amplitude_spectrum \u001b[38;5;241m=\u001b[39m numpy\u001b[38;5;241m.\u001b[39mabs(spectrum)\n\u001b[1;32m      6\u001b[0m     \u001b[38;5;28;01mreturn\u001b[39;00m frequencies, amplitude_spectrum\n\u001b[0;32m----> 8\u001b[0m frequencies, amplitude_spectrum \u001b[38;5;241m=\u001b[39m calculate_amplitude_spectrum(\u001b[43mtest\u001b[49m)\n\u001b[1;32m      9\u001b[0m plt\u001b[38;5;241m.\u001b[39mplot(frequencies, amplitude_spectrum)\n\u001b[1;32m     10\u001b[0m plt\u001b[38;5;241m.\u001b[39mxlabel(\u001b[38;5;124m'\u001b[39m\u001b[38;5;124mFrequency\u001b[39m\u001b[38;5;124m'\u001b[39m)\n",
      "\u001b[0;31mNameError\u001b[0m: name 'test' is not defined"
     ]
    }
   ],
   "source": [
    "\n",
    "def calculate_amplitude_spectrum(signal):\n",
    "    n = len(signal)\n",
    "    frequencies = numpy.fft.fftfreq(n, d=1/44100)\n",
    "    spectrum = numpy.fft.fft(signal)\n",
    "    amplitude_spectrum = numpy.abs(spectrum)\n",
    "    return frequencies, amplitude_spectrum\n",
    "\n",
    "frequencies, amplitude_spectrum = calculate_amplitude_spectrum(test)\n",
    "plt.plot(frequencies, amplitude_spectrum)\n",
    "plt.xlabel('Frequency')\n",
    "plt.ylabel('Amplitude')\n",
    "plt.show()\n"
   ]
  }
 ],
 "metadata": {
  "kernelspec": {
   "display_name": "base",
   "language": "python",
   "name": "python3"
  },
  "language_info": {
   "codemirror_mode": {
    "name": "ipython",
    "version": 3
   },
   "file_extension": ".py",
   "mimetype": "text/x-python",
   "name": "python",
   "nbconvert_exporter": "python",
   "pygments_lexer": "ipython3",
   "version": "3.11.3"
  }
 },
 "nbformat": 4,
 "nbformat_minor": 2
}
