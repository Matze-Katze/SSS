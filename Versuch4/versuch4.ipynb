{
 "cells": [
  {
   "cell_type": "code",
   "execution_count": null,
   "metadata": {},
   "outputs": [],
   "source": [
    "import pyaudio\n",
    "import numpy\n",
    "import matplotlib.pyplot as plt\n",
    "FORMAT = pyaudio.paInt16\n",
    "SAMPLEFREQ = 44100\n",
    "FRAMESIZE = 1024\n",
    "NOFFRAMES = 220\n",
    "p = pyaudio.PyAudio()\n",
    "print(’running’)\n",
    "stream = p.open(format=FORMAT,channels=1,rate=SAMPLEFREQ,\n",
    "input=True,frames_per_buffer=FRAMESIZE)\n",
    "data = stream.read(NOFFRAMES*FRAMESIZE)\n",
    "decoded = numpy.fromstring(data, ’Int16’);\n",
    "stream.stop_stream()\n",
    "stream.close()\n",
    "p.terminate()\n",
    "print(’done’)\n",
    "plt.plot(decoded)\n",
    "plt.show()"
   ]
  }
 ],
 "metadata": {
  "language_info": {
   "name": "python"
  }
 },
 "nbformat": 4,
 "nbformat_minor": 2
}
