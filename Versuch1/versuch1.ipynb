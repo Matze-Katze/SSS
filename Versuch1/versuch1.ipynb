{
 "cells": [
  {
   "cell_type": "markdown",
   "metadata": {},
   "source": [
    "# Versuch 1"
   ]
  },
  {
   "cell_type": "code",
   "execution_count": null,
   "metadata": {},
   "outputs": [],
   "source": [
    "import numpy as np\n",
    "import glob\n",
    "import matplotlib.pyplot as plt"
   ]
  },
  {
   "cell_type": "markdown",
   "metadata": {},
   "source": [
    "## Aufgabe2\n",
    "### Daten einlesen"
   ]
  },
  {
   "cell_type": "code",
   "execution_count": null,
   "metadata": {},
   "outputs": [],
   "source": [
    "rawXArray = sorted(glob.glob(\"./Versuchwerte/Versuch1/*\"))\n",
    "\n",
    "meanArray = []\n",
    "devArray = []\n",
    "\n",
    "for fileName in rawXArray:  \n",
    "    values = np.genfromtxt(fname=fileName,dtype=str, skip_header=1003)\n",
    "    yArray = []\n",
    "    for yStrings in values:\n",
    "        yValue=yStrings.replace(\",\",\".\").split(\";\")\n",
    "        yArray.append(float(yValue[1]))\n",
    "    \n",
    "    currMean = np.mean(yArray)\n",
    "    currDev = np.std(yArray)\n",
    "    meanArray.append(float(currMean))\n",
    "    devArray.append(float(currDev))"
   ]
  },
  {
   "cell_type": "markdown",
   "metadata": {},
   "source": [
    "### Mean und Deviation"
   ]
  },
  {
   "cell_type": "code",
   "execution_count": null,
   "metadata": {},
   "outputs": [],
   "source": [
    "def formatting(s):\n",
    "    return s.replace(\"./Versuchwerte/Versuch1/\",\"\").replace(\"cm.csv\",\"\").replace(\",\",\".\")\n",
    "\n",
    "\n",
    "plt.rcParams[\"figure.figsize\"] = [5, 3.50]\n",
    "plt.rcParams[\"figure.autolayout\"] = True\n",
    "\n",
    "xvalues= list(map(float,map(formatting,rawXArray)))\n",
    "plt.plot(xvalues,meanArray,label='mean')\n",
    "plt.plot(xvalues,devArray,label='deviation')\n",
    "\n",
    "plt.legend()\n",
    "\n",
    "plt.xlabel('cm')\n",
    "plt.ylabel('volt')\n",
    "\n",
    "plt.show()"
   ]
  },
  {
   "cell_type": "markdown",
   "metadata": {},
   "source": [
    "### Logarithmisierung der Ein- und der Ausgabe"
   ]
  },
  {
   "cell_type": "code",
   "execution_count": null,
   "metadata": {},
   "outputs": [],
   "source": [
    "yValuesLog = []\n",
    "xValuesLog = []\n",
    "\n",
    "for x in meanArray:\n",
    "    currMean = np.log(x)\n",
    "    yValuesLog.append(float(currMean))\n",
    "    \n",
    "for x in rawXArray:\n",
    "    currLog = np.log(float(formatting(x)))\n",
    "    xValuesLog.append(float(currLog))"
   ]
  },
  {
   "cell_type": "code",
   "execution_count": null,
   "metadata": {},
   "outputs": [],
   "source": [
    "plt.rcParams[\"figure.figsize\"] = [5.50, 3.50]\n",
    "plt.rcParams[\"figure.autolayout\"] = True\n",
    "\n",
    "plt.plot(xValuesLog,yValuesLog,label=\"ln(mean)\")\n",
    "\n",
    "plt.legend()\n",
    "\n",
    "plt.xlabel('ln(cm)')\n",
    "plt.ylabel('ln(volt)')\n",
    "\n",
    "plt.show()\n",
    "\n",
    "plt.show()"
   ]
  },
  {
   "cell_type": "markdown",
   "metadata": {},
   "source": [
    "### Lineare Regression"
   ]
  },
  {
   "cell_type": "code",
   "execution_count": null,
   "metadata": {},
   "outputs": [],
   "source": [
    "meanofXLog = np.mean(xValuesLog)\n",
    "meanOfYLog = np.mean(yValuesLog)\n",
    "\n",
    "\n",
    "sumA = 0\n",
    "sumB = 0\n",
    "for n in range(0,20):\n",
    "    sumA += (xValuesLog[n]-meanofXLog ) * (yValuesLog[n] - meanOfYLog)\n",
    "    sumB += (xValuesLog[n]-meanofXLog )**2\n",
    "\n",
    "slope = sumA / sumB\n",
    "offset = meanOfYLog - slope * meanofXLog\n",
    "\n",
    "def line(x,a,b):\n",
    "    return a*x+b\n",
    "\n",
    "xStart = xValuesLog[0]\n",
    "xEnd = xValuesLog[len(xValuesLog)-1]\n",
    "\n",
    "plt.plot(xValuesLog,yValuesLog,label=\"ln(mean)\")\n",
    "plt.plot([xStart,xEnd],[line(xStart,slope,offset),line(xEnd,slope,offset)],label=\"linear regression\")\n",
    "\n",
    "plt.legend()\n",
    "\n",
    "plt.xlabel('ln(cm)')\n",
    "plt.ylabel('ln(volt)')\n",
    "\n",
    "\n",
    "#Calculating the quadratic deviation of our linear regression to our data set\n",
    "totalDelta = 0.0\n",
    "for x in range(0,20):\n",
    "    y = line(xValuesLog[x],slope,offset)\n",
    "    delta = (y-yValuesLog[x])**2\n",
    "    totalDelta += delta\n",
    "print(totalDelta)\n",
    "    "
   ]
  },
  {
   "cell_type": "markdown",
   "metadata": {},
   "source": [
    "### Umkehrung der doppelten Logarithmierung"
   ]
  },
  {
   "cell_type": "code",
   "execution_count": null,
   "metadata": {},
   "outputs": [],
   "source": [
    "def expoLine(x,a,b):\n",
    "    return np.exp(a*np.log(x)+b)\n",
    "\n",
    "def expoLineRange(a,b,liste):\n",
    "    value = []\n",
    "    for x in liste:\n",
    "        value.append(expoLine(x,a,b))\n",
    "    return value\n",
    "\n",
    "plt.rcParams[\"figure.figsize\"] = [5, 3.50]\n",
    "plt.rcParams[\"figure.autolayout\"] = True\n",
    "\n",
    "plt.plot(xvalues,expoLineRange(slope,offset,xvalues),label=\"exponentiated linear regression\")\n",
    "plt.plot(xvalues,meanArray,label=\"mean\")\n",
    "\n",
    "plt.legend()\n",
    "\n",
    "plt.xlabel('cm')\n",
    "plt.ylabel('volt')\n",
    "\n",
    "plt.show()\n"
   ]
  },
  {
   "cell_type": "markdown",
   "metadata": {},
   "source": [
    "## Aufgabe 3\n",
    "### Länge DINA4"
   ]
  },
  {
   "cell_type": "code",
   "execution_count": null,
   "metadata": {},
   "outputs": [],
   "source": [
    "def readAndFormat(path):\n",
    "    readRaw = np.genfromtxt(fname=path,dtype=str, skip_header=1003)\n",
    "    yValues = []\n",
    "    for yRaw in readRaw:\n",
    "        yValue=yRaw.replace(\",\",\".\").split(\";\")\n",
    "        yValues.append(float(yValue[1]))\n",
    "    mean = (float(np.mean(yValues)))\n",
    "    deviation = (float(np.std(yValues))/np.sqrt(len(yValues)))\n",
    "    return (mean,deviation)\n",
    "\n",
    "lengthValues = readAndFormat(\"./Versuchwerte/laengeDINA4.csv\")\n",
    "meanLength = lengthValues[0]\n",
    "deviationLength = lengthValues[1]\n",
    "\n",
    "\n",
    "t = 1.0\n",
    "print(\"x = \" + str(meanLength) + \" +- \"+ str(t)+ \"* \" + str(deviationLength) + \" = [\"+ str(meanLength-t*deviationLength) +\",\" + str(meanLength+t*deviationLength) + \"] für 68% safety\")\n",
    "t = 1.96\n",
    "print(\"x = \" + str(meanLength) + \" +- \"+ str(t)+ \"* \" + str(deviationLength) + \" = [\"+ str(meanLength-t*deviationLength) +\",\" + str(meanLength+t*deviationLength) + \"] für 95% safety\")\n",
    "\n",
    "\n",
    "deltaYLength = t * deviationLength"
   ]
  },
  {
   "cell_type": "markdown",
   "metadata": {},
   "source": [
    "## Fortplfanzungsfunktion nach Δx umstellen \n",
    "1. $\\ Δy = a*e^b * x^{a-1} * Δx $ \\\n",
    "2. $\\ Δy/(a*e^b * x^{a-1}) =  Δx $ \n",
    "\n",
    "## Umkehrfunktion von exponentiated linear regression:\n",
    " ### $\\ x = \\sqrt[a]{y/e^b} $"
   ]
  },
  {
   "cell_type": "code",
   "execution_count": null,
   "metadata": {},
   "outputs": [],
   "source": [
    "lengthCm = ((meanLength)/np.exp(offset))**(1/slope)\n",
    "\n",
    "print(\"Die gemessene Durchschnittslänge vom DINA4 Blatt \" + str(lengthCm))\n",
    "print(\"x = [\"+ str(((meanLength+deltaYLength)/np.exp(offset))**(1/slope)) + \",\" + str(((meanLength-deltaYLength)/np.exp(offset))**(1/slope)) + \"]\")\n"
   ]
  },
  {
   "cell_type": "code",
   "execution_count": null,
   "metadata": {},
   "outputs": [],
   "source": [
    "def calculateDeltaX(deltaY,xMean):\n",
    "    deltaX =  (deltaY) / (slope*np.exp(offset)* xMean **(slope-1))\n",
    "    print(\"Delta X = \" + str(abs(deltaX)))\n",
    "    print(\"x ≈ [\"+  str(xMean + deltaX) + \",\" + str(xMean - deltaX) + \"]\")\n",
    "    return deltaX\n",
    "\n",
    "deltaXLength = calculateDeltaX(deltaYLength,lengthCm)"
   ]
  },
  {
   "cell_type": "markdown",
   "metadata": {},
   "source": [
    "### Breite DINA4"
   ]
  },
  {
   "cell_type": "code",
   "execution_count": null,
   "metadata": {},
   "outputs": [],
   "source": [
    "widthValues = readAndFormat(\"./Versuchwerte/breiteDINA4.csv\")\n",
    "meanWidth = widthValues[0]\n",
    "deviationWidth = widthValues[1]\n",
    "\n",
    "\n",
    "widthCm = ((meanWidth)/np.exp(offset))**(1/slope)\n",
    "\n",
    "print(\"Die gemessene Durchschnittsbreite vom DINA4 Blatt \" + str(widthCm))\n",
    "\n",
    "deltaYWidth = t * deviationWidth\n",
    "\n",
    "deltaXWidth = calculateDeltaX(deltaYWidth,widthCm)"
   ]
  },
  {
   "cell_type": "markdown",
   "metadata": {},
   "source": [
    "### Fläche DINA4"
   ]
  },
  {
   "cell_type": "markdown",
   "metadata": {},
   "source": [
    "$\\ ∆y =  \\sqrt{(∂/∂x_1 f(x) * ∆x_1)² + ⋯ + (∂/∂x_m f(x) * ∆x_m)²} $\n",
    "\n",
    "$\\ a = l * w $\n",
    "\n",
    "$\\ ∆y = \\sqrt{(w * ∆x_{length})² + (l * ∆x_{widht})²} $ \n"
   ]
  },
  {
   "cell_type": "code",
   "execution_count": null,
   "metadata": {},
   "outputs": [],
   "source": [
    "area = widthCm * lengthCm\n",
    "print(\"Fläche = \" + str(area))\n",
    "areaDeltaY = np.sqrt((widthCm * deltaXLength ) ** 2 + (lengthCm * deltaXWidth ) ** 2)\n",
    "print(\"Delta Y für Fläche = \" + str(areaDeltaY))\n",
    "print(\"Fläche mit fehler = [\"+  str(area - areaDeltaY) + \",\" + str(area + areaDeltaY) + \"]\")\n",
    "#print(\"Relativer Messfehler für Fläche = \"+ str(areaDeltaY / area))\n",
    "#print(\"Relativer Messfehler für Breite = \"+ str(abs(deltaXWidth / widthCm)))\n",
    "#print(\"Relativer Messfehler für Länge = \"+ str(abs(deltaXLength / lengthCm)))"
   ]
  }
 ],
 "metadata": {
  "kernelspec": {
   "display_name": "base",
   "language": "python",
   "name": "python3"
  },
  "language_info": {
   "codemirror_mode": {
    "name": "ipython",
    "version": 3
   },
   "file_extension": ".py",
   "mimetype": "text/x-python",
   "name": "python",
   "nbconvert_exporter": "python",
   "pygments_lexer": "ipython3",
   "version": "3.11.5"
  }
 },
 "nbformat": 4,
 "nbformat_minor": 2
}
