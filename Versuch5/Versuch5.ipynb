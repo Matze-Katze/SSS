{
 "cells": [
  {
   "cell_type": "markdown",
   "metadata": {},
   "source": [
    "### Genauigkeit\n",
    "$\\Delta U=\\frac{U{max}-U{min}}{2^n}$\n",
    "$=\\frac{10-(-10)}{2^11}\\approx 9,765e-3$"
   ]
  },
  {
   "cell_type": "code",
   "execution_count": 21,
   "metadata": {},
   "outputs": [
    {
     "name": "stdout",
     "output_type": "stream",
     "text": [
      "Messfehler:\n",
      "AD_Wandler=0.019122877514758108\n",
      "Multimeter=0.023631429166354783\n"
     ]
    }
   ],
   "source": [
    "import pandas as pd\n",
    "import numpy as np\n",
    "\n",
    "Sheet=np.array(pd.read_excel(\"./Versuch5.1.xlsx\"))\n",
    "\n",
    "def std(refs,values):\n",
    "    n=len(refs)\n",
    "    MessFehler=[refs[i]-values[i] for i in range(0,n)]\n",
    "    S=np.sqrt(sum(map(lambda a:a*a,MessFehler))/(n-1))\n",
    "    return S\n",
    "\n",
    "ADFehler=std([x[3] for x in Sheet],[x[1] for x in Sheet])\n",
    "PMFehler=std([x[3] for x in Sheet],[x[2] for x in Sheet])\n",
    "print(\"Messfehler:\\nAD_Wandler=\"+str(ADFehler)+\"\\nMultimeter=\"+str(PMFehler))\n"
   ]
  },
  {
   "cell_type": "markdown",
   "metadata": {},
   "source": [
    "$\\Delta U=\\frac{U{max}-U{min}}{2^n}$\n",
    "$=\\frac{5-(0)}{2^10}\\approx 4,882e-3$"
   ]
  },
  {
   "cell_type": "code",
   "execution_count": null,
   "metadata": {},
   "outputs": [],
   "source": []
  }
 ],
 "metadata": {
  "kernelspec": {
   "display_name": "base",
   "language": "python",
   "name": "python3"
  },
  "language_info": {
   "codemirror_mode": {
    "name": "ipython",
    "version": 3
   },
   "file_extension": ".py",
   "mimetype": "text/x-python",
   "name": "python",
   "nbconvert_exporter": "python",
   "pygments_lexer": "ipython3",
   "version": "3.11.5"
  }
 },
 "nbformat": 4,
 "nbformat_minor": 2
}
