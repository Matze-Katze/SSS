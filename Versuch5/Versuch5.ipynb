{
 "cells": [
  {
   "cell_type": "markdown",
   "metadata": {},
   "source": [
    "### Genauigkeit\n",
    "$\\Delta U=\\frac{U{max}-U{min}}{2^n}$\n",
    "$=\\frac{10-(-10)}{2^{11}}\\approx 9,765e-3$"
   ]
  },
  {
   "cell_type": "code",
   "execution_count": 4,
   "metadata": {},
   "outputs": [
    {
     "name": "stdout",
     "output_type": "stream",
     "text": [
      "[0.010399999999999965, 0.009000000000000341, 0.008000000000000007, 0.008000000000000007, 0.0, 0.0009999999999994458, 0.019999999999999574, 0.02099999999999902, 0.013999999999999346, 0.04400000000000048]\n",
      "[0.004999999999999893, 0.009000000000000341, 0.0129999999999999, 0.019999999999999574, 0.019999999999999574, 0.026999999999999247, 0.020999999999999908, 0.02800000000000047, 0.028999999999999915, 0.034000000000000696]\n",
      "std-Messfehler:\n",
      "AD_Wandler=0.019122877514758108\n",
      "Multimeter=0.023631429166354783\n"
     ]
    }
   ],
   "source": [
    "import pandas as pd\n",
    "import numpy as np\n",
    "\n",
    "Sheet=np.array(pd.read_excel(\"./Versuch5.1.xlsx\"))\n",
    "\n",
    "def std(refs,values):\n",
    "    n=len(refs)\n",
    "    MessFehler=[refs[i]-values[i] for i in range(0,n)]\n",
    "    print(MessFehler)\n",
    "    S=np.sqrt(sum(map(lambda a:a*a,MessFehler))/(n-1))\n",
    "    return S\n",
    "\n",
    "\n",
    "ADFehler=std([x[3] for x in Sheet],[x[1] for x in Sheet])\n",
    "PMFehler=std([x[3] for x in Sheet],[x[2] for x in Sheet])\n",
    "print(\"std-Messfehler:\\nAD_Wandler=\"+str(ADFehler)+\"\\nMultimeter=\"+str(PMFehler))\n",
    "print(\"Theoretischer Quantisierungsfehler AD-Wandler=\"+str(5 / (2 ** 10)))\n"
   ]
  },
  {
   "cell_type": "markdown",
   "metadata": {},
   "source": [
    "theoretischer Quantisierungsfehler 10-Bit-DA_Wandler:\n",
    "\n",
    "$\\Delta U=\\frac{U{max}-U{min}}{2^n}$\n",
    "$=\\frac{5-(0)}{2^{10}}\\approx 4,882e-3$"
   ]
  },
  {
   "cell_type": "code",
   "execution_count": 3,
   "metadata": {},
   "outputs": [
    {
     "name": "stdout",
     "output_type": "stream",
     "text": [
      "[-0.06599999999999995, -0.07200000000000006, -0.07800000000000007, -0.09600000000000009, -0.10899999999999999, -0.121, -0.1339999999999999, -0.13900000000000023, -0.1349999999999998, -0.12699999999999978]\n",
      "Messfehler Oszi=0.11690119284630453\n",
      "Theoretischer Quantisierungsfehler: 0.0048828125\n"
     ]
    }
   ],
   "source": [
    "Sheet2=np.array(pd.read_excel(\"./Versuch5.2.xlsx\"))\n",
    "OsziFehler = std([0.5*i for i in range(1,11)],[x[1] for x in Sheet2])\n",
    "\n",
    "print(\"Messfehler Oszi=\"+str(OsziFehler))\n",
    "print(\"Theoretischer Quantisierungsfehler: \" +  str(5 / (2 ** 10)))"
   ]
  },
  {
   "cell_type": "markdown",
   "metadata": {},
   "source": [
    "Abtasttheorem\n",
    "\n",
    "Samplingrate = 7000 -> 7009\n",
    "\n",
    "Nyquistfrequenz = 7009 -> 3504,5"
   ]
  }
 ],
 "metadata": {
  "kernelspec": {
   "display_name": "base",
   "language": "python",
   "name": "python3"
  },
  "language_info": {
   "codemirror_mode": {
    "name": "ipython",
    "version": 3
   },
   "file_extension": ".py",
   "mimetype": "text/x-python",
   "name": "python",
   "nbconvert_exporter": "python",
   "pygments_lexer": "ipython3",
   "version": "3.11.5"
  }
 },
 "nbformat": 4,
 "nbformat_minor": 2
}
